{
 "cells": [
  {
   "cell_type": "code",
   "execution_count": 1,
   "id": "initial_id",
   "metadata": {
    "ExecuteTime": {
     "end_time": "2025-09-09T03:07:42.152193Z",
     "start_time": "2025-09-09T03:07:36.743435Z"
    },
    "collapsed": true
   },
   "outputs": [
    {
     "name": "stdout",
     "output_type": "stream",
     "text": [
      "Chu vi = 75.39822368615503\n",
      "Diện tích= 144.0\n"
     ]
    }
   ],
   "source": [
    "#Câu 1: Tính chu vi diện tích Hình tròn\n",
    "\n",
    "import math\n",
    "try:\n",
    " r=float(input(\"Mời bạn nhập bán kính hình tròn:\"))\n",
    " cv=2*math.pi*r\n",
    " dt=r**2\n",
    " print(\"Chu vi =\",cv)\n",
    " print(\"Diện tích=\",dt)\n",
    "except:\n",
    " print(\"Lỗi rồi!\")\n"
   ]
  },
  {
   "cell_type": "code",
   "execution_count": 3,
   "id": "2b68313ae0448724",
   "metadata": {
    "ExecuteTime": {
     "end_time": "2025-09-09T03:08:28.283249Z",
     "start_time": "2025-09-09T03:08:24.602099Z"
    }
   },
   "outputs": [
    {
     "name": "stdout",
     "output_type": "stream",
     "text": [
      "1 : 0 : 30\n"
     ]
    }
   ],
   "source": [
    "#Câu 2: Tính giờ phút giây\n",
    "\n",
    "t=int(input(\"Nhập số giây:\"))\n",
    "hour=(t//3600)%24\n",
    "minute=(t%3600)//60\n",
    "second=(t%3600)%60\n",
    "print(hour,\":\",minute,\":\",second)"
   ]
  },
  {
   "cell_type": "code",
   "execution_count": 4,
   "id": "b9d5fdc396abf440",
   "metadata": {
    "ExecuteTime": {
     "end_time": "2025-09-09T03:09:52.991573Z",
     "start_time": "2025-09-09T03:09:43.519428Z"
    }
   },
   "outputs": [
    {
     "name": "stdout",
     "output_type": "stream",
     "text": [
      "Điểm trung bình= 9.833333333333334\n",
      "Điểm trung bình= 9.83\n"
     ]
    }
   ],
   "source": [
    "#Câu 3: Tính điểm trung bình\n",
    "\n",
    "toan=float(input(\"Nhập điểm Toán:\"))\n",
    "ly=float(input(\"Nhập điểm lý:\"))\n",
    "hoa=float(input(\"Nhập điểm hóa:\"))\n",
    "dtb=(toan+ly+hoa)/3\n",
    "print(\"Điểm trung bình=\",dtb)\n",
    "print(\"Điểm trung bình=\",round(dtb,2))"
   ]
  },
  {
   "cell_type": "code",
   "execution_count": null,
   "id": "80d117e6e02d4a49",
   "metadata": {},
   "outputs": [],
   "source": [
    "#Câu 4: Python hỗ trợ những kiểu dữ liệu cơ bản nào?\n",
    "\n",
    "'''\n",
    "Python có các kiểu dữ liệu cơ bản như số nguyên (int), số thực (float), kiểu dữ liệu logic (boolean) và chuỗi ký tự (string).\n",
    "'''"
   ]
  },
  {
   "cell_type": "code",
   "execution_count": 6,
   "id": "5c3b60c377afc4c5",
   "metadata": {
    "ExecuteTime": {
     "end_time": "2025-09-09T03:37:51.025183Z",
     "start_time": "2025-09-09T03:37:50.949312Z"
    }
   },
   "outputs": [
    {
     "data": {
      "text/plain": [
       "'\\nTrong Python, chúng ta sử dụng dấu thăng (#) để đánh dấu việc bắt đầu một dòng chú thích. Toàn bộ dòng được đánh dấu bằng dấu \"#\" cho đến khi xuống dòng mới được coi là một dòng chú thích và trình thông dịch Python sẽ bỏ qua dòng này khi thực hiện dịch chương trình để thực thi.\\n\\nMột cách tương tự, chúng ta có thể sử dụng một chuỗi nhiều dòng nhưng một chú thích trên nhiều dòng bằng cách sử dụng cặp 3 dấu nháy (triple quotes) () hoặc (\"\"\" \"\"\").\\n'"
      ]
     },
     "execution_count": 6,
     "metadata": {},
     "output_type": "execute_result"
    }
   ],
   "source": [
    "#Câu 5: Trình bày các loại ghi chú trong Python.\n",
    "\n",
    "'''\n",
    "Trong Python, chúng ta sử dụng dấu thăng (#) để đánh dấu việc bắt đầu một dòng chú thích. Toàn bộ dòng được đánh dấu bằng dấu \"#\" cho đến khi xuống dòng mới được coi là một dòng chú thích và trình thông dịch Python sẽ bỏ qua dòng này khi thực hiện dịch chương trình để thực thi.\n",
    "\n",
    "Một cách tương tự, chúng ta có thể sử dụng một chuỗi nhiều dòng nhưng một chú thích trên nhiều dòng bằng cách sử dụng cặp 3 dấu nháy (triple quotes) (''' ''') hoặc (\"\"\" \"\"\").\n",
    "'''"
   ]
  },
  {
   "cell_type": "code",
   "execution_count": null,
   "id": "fc4b796808804d5c",
   "metadata": {},
   "outputs": [],
   "source": [
    "#Câu 6: Trình bày ý nghĩa toán tử /, //, %, **, and, or, is.\n",
    "\n",
    "'''\n",
    "Toán tử số học:\n",
    "/ (Chia thông thường): Trả về kết quả chia dạng số thực (float).\n",
    "// (Chia lấy nguyên): Trả về phần nguyên của phép chia, loại bỏ hoàn toàn phần thập phân.\n",
    "% (Chia lấy dư): Trả về phần dư của phép chia.\n",
    "** (Lũy thừa): Nâng số bên trái lên bậc của số bên phải.\n",
    "\n",
    "Toán tử logic:\n",
    "and (Và): Trả về True chỉ khi cả hai toán hạng đều là True. Nếu một trong hai là False, kết quả là False.\n",
    "or (Hoặc): Trả về True nếu ít nhất một trong hai toán hạng là True. Chỉ trả về False khi cả hai là False.\n",
    "\n",
    "\n",
    "Toán tử danh tính:\n",
    "is (Là): So sánh xem hai biến có trỏ đến cùng một đối tượng trong bộ nhớ hay không.\n",
    "'''"
   ]
  },
  {
   "cell_type": "code",
   "execution_count": 2,
   "id": "aa63eb36c052fcb6",
   "metadata": {
    "ExecuteTime": {
     "end_time": "2025-09-10T06:44:20.718751Z",
     "start_time": "2025-09-10T06:44:20.701464Z"
    }
   },
   "outputs": [
    {
     "data": {
      "text/plain": [
       "'\\nTrong Python, cách phổ biến nhất để nhập dữ liệu từ bàn phím là sử dụng hàm input(). Hàm này nhận dữ liệu đầu vào dưới dạng chuỗi (string) và có thể kết hợp với các hàm ép kiểu như int() hoặc float() để chuyển đổisang kiểu số nguyên hoặc số thực tương ứng.\\n\\nCách sử dụng hàm input():\\n1. Nhập dữ liệu dạng chuỗi:\\nKhi bạn sử dụng input() mà không có đối số, nó sẽ đợi người dùng nhập văn bản và nhấn Enter, sau đó trả về văn bản đó dưới dạng một chuỗi.\\n2. Nhập dữ liệu dạng số (nguyên, thực):\\nVì input() luôn trả về chuỗi, bạn cần ép kiểu dữ liệu nếu muốn sử dụng số.\\nSử dụng int(input()) để ép kiểu sang số nguyên.\\nSử dụng float(input()) để ép kiểu sang số thực.\\n\\nGiải thích:\\nĐầu tiên, input() sẽ nhận văn bản nhập từ bàn phím.\\nSau đó, hàm int() hoặc float() sẽ cố gắng chuyển đổi chuỗi đó thành một số nguyên hoặc số thực.\\n\\nLưu ý:\\n\\n'"
      ]
     },
     "execution_count": 2,
     "metadata": {},
     "output_type": "execute_result"
    }
   ],
   "source": [
    "#Câu 7: Trình bày một số cách nhập dữ liệu từ bàn phím.\n",
    "\n",
    "'''\n",
    "Trong Python, cách phổ biến nhất để nhập dữ liệu từ bàn phím là sử dụng hàm input(). Hàm này nhận dữ liệu đầu vào dưới dạng chuỗi (string) và có thể kết hợp với các hàm ép kiểu như int() hoặc float() để chuyển đổisang kiểu số nguyên hoặc số thực tương ứng.\n",
    "\n",
    "Cách sử dụng hàm input():\n",
    "1. Nhập dữ liệu dạng chuỗi:\n",
    "Khi bạn sử dụng input() mà không có đối số, nó sẽ đợi người dùng nhập văn bản và nhấn Enter, sau đó trả về văn bản đó dưới dạng một chuỗi.\n",
    "2. Nhập dữ liệu dạng số (nguyên, thực):\n",
    "Vì input() luôn trả về chuỗi, bạn cần ép kiểu dữ liệu nếu muốn sử dụng số.\n",
    "Sử dụng int(input()) để ép kiểu sang số nguyên.\n",
    "Sử dụng float(input()) để ép kiểu sang số thực.\n",
    "\n",
    "Giải thích:\n",
    "Đầu tiên, input() sẽ nhận văn bản nhập từ bàn phím.\n",
    "Sau đó, hàm int() hoặc float() sẽ cố gắng chuyển đổi chuỗi đó thành một số nguyên hoặc số thực.\n",
    "\n",
    "Lưu ý:\n",
    "Nếu người dùng nhập một chuỗi không thể ép kiểu (ví dụ: nhập chữ \"abc\" khi cần số nguyên), chương trình sẽ báo lỗi ValueError.\n",
    "Bạn có thể cung cấp một thông báo gợi ý cho người dùng bằng cách truyền chuỗi vào hàm input(), như trong ví dụ nhập chiều cao.\n",
    "\n",
    "'''"
   ]
  },
  {
   "cell_type": "code",
   "execution_count": null,
   "id": "cf3f63979fc907b",
   "metadata": {},
   "outputs": [],
   "source": [
    "#Câu 8: Trình bày các loại lỗi khi lập trình và cách bắt lỗi trong Python.\n",
    "\n",
    "'''\n",
    "Trong Python, có ba loại lỗi chính là lỗi cú pháp (lỗi do viết sai quy tắc ngôn ngữ), lỗi ngoại lệ (lỗi xảy ra trong quá trình thực thi, ví dụ như chia cho 0) và lỗi logic (chương trình chạy đúng nhưng kết quả sai). Để xử lý các loại lỗi này, ta cần sử dụng khối try-except để bắt và xử lý lỗi ngoại lệ, còn lỗi cú pháp thường được sửa bằng cách kiểm tra và sửa lại cấu trúc code, còn lỗi logic đòi hỏi phải kiểm tra lại logic xử lý và kết quả đầu ra của chương trình.\n",
    "\n",
    "1. Các loại lỗi\n",
    "- Lỗi cú pháp (Syntax Errors):\n",
    "Đặc điểm: Lỗi do viết sai cấu trúc, quy tắc ngữ pháp của ngôn ngữ Python, ví dụ như quên dấu hai chấm, dấu ngoặc, hoặc sai định dạng câu lệnh.\n",
    "Hậu quả: Chương trình sẽ không thể biên dịch (thông dịch) và dừng lại ngay lập tức, kèm theo thông báo lỗi cú pháp.\n",
    "\n",
    "- Lỗi ngoại lệ (Exception Errors):\n",
    "Đặc điểm: Lỗi xảy ra trong quá trình thực thi chương trình, sau khi đã biên dịch thành công. Các ví dụ phổ biến bao gồm lỗi chia cho 0, lỗi ép kiểu dữ liệu không hợp lệ, hoặc lỗi đọc/ghi tệp không tồn tại.\n",
    "Hậu quả: Chương trình sẽ dừng lại đột ngột và báo cáo lỗi ngoại lệ tương ứng.\n",
    "\n",
    "- Lỗi logic (Logic Errors):\n",
    "Đặc điểm: Chương trình chạy hoàn chỉnh mà không gặp bất kỳ lỗi cú pháp hay ngoại lệ nào, nhưng kết quả trả về lại sai hoặc không đúng với yêu cầu mong muốn.\n",
    "Hậu quả: Kết quả không chính xác, gây sai lệch trong hoạt động của chương trình.\n",
    "\n",
    "2. Cách xử lý và bắt lỗi\n",
    "- Đối với Lỗi Cú pháp:\n",
    "Cách sửa: Đọc kỹ thông báo lỗi do trình biên dịch Python trả về để xác định dòng code sai cú pháp và sửa lại cho đúng với quy tắc ngôn ngữ.\n",
    "\n",
    "- Đối với Lỗi Ngoại lệ:\n",
    "Cách bắt lỗi: Sử dụng cấu trúc try-except.\n",
    "\n",
    "- Đối với Lỗi Logic:\n",
    "Cách sửa: Đây là loại lỗi khó xử lý nhất, đòi hỏi người lập trình phải kiểm tra lại toàn bộ logic xử lý của chương trình.\n",
    "'''"
   ]
  },
  {
   "cell_type": "code",
   "execution_count": 3,
   "id": "190e12dfe580a578",
   "metadata": {
    "ExecuteTime": {
     "end_time": "2025-09-10T07:08:01.475756Z",
     "start_time": "2025-09-10T07:08:01.416689Z"
    }
   },
   "outputs": [
    {
     "data": {
      "text/plain": [
       "'\\n(a) i1 + (i2 * i3)\\nGiải thích:\\nTính phép nhân trong ngoặc trước: i2 * i3 = 5 * (-3) = -15.\\nSau đó, thực hiện phép cộng: i1 + (-15) = 2 + (-15) = -13.\\nKết quả: -13\\n\\n(b) i1 * (i2 + i3)\\nGiải thích:\\nTính phép cộng trong ngoặc trước: i2 + i3 = 5 + (-3) = 2.\\nSau đó, thực hiện phép nhân: i1 * 2 = 2 * 2 = 4.\\nKết quả: 4\\n\\n(c) i1 / (i2 + i3)\\nGiải thích:\\nTính phép cộng trong ngoặc trước: i2 + i3 = 5 + (-3) = 2.\\nSau đó, thực hiện phép chia: i1 / 2 = 2 / 2 = 1.0. Vì đây là phép chia dấu / nên kết quả là số thực.\\nKết quả: 1.0\\n\\n(d) i1 // (i2 + i3)\\nGiải thích:\\nTính phép cộng trong ngoặc trước: i2 + i3 = 5 + (-3) = 2.\\nSau đó, thực hiện phép chia lấy phần nguyên: i1 // 2 = 2 // 2 = 1.\\nKết quả: 1\\n\\n(e) i1 / i2 + i3\\nGiải thích:\\nThực hiện phép chia trước do có độ ưu tiên cao hơn: i1 / i2 = 2 / 5 = 0.4.\\nSau đó, thực hiện phép cộng: 0.4 + i3 = 0.4 + (-3) = -2.6.\\nKết quả: -2.6\\n\\n(g) 3 + 4 + 5 / 3\\nGiải thích:\\nThực hiện phép chia trước: 5 / 3 = 1.666....\\nSau đó, thực hiện phép cộng từ trái sang phải: 3 + 4 = 7, rồi 7 + 1.666... = 8.666....\\nKết quả: 8.666666666666666\\n\\n(h) 3 + 4 + 5 // 3\\nGiải thích:\\nThực hiện phép chia lấy phần nguyên trước: 5 // 3 = 1.\\nSau đó, thực hiện phép cộng từ trái sang phải: 3 + 4 = 7, rồi 7 + 1 = 8.\\nKết quả: 8\\n\\n(i) (3 + 4 + 5) / 3\\nGiải thích:\\nTính tổng trong ngoặc trước: 3 + 4 + 5 = 12.\\nSau đó, thực hiện phép chia: 12 / 3 = 4.0. Vì đây là phép chia dấu / nên kết quả là số thực.\\nKết quả: 4.0\\n\\n(j) (3 + 4 + 5) // 3\\nGiải thích:\\nTính tổng trong ngoặc trước: 3 + 4 + 5 = 12.\\nSau đó, thực hiện phép chia lấy phần nguyên: 12 // 3 = 4.\\nKết quả: 4\\n\\n(k) d1 + (d2 * d3)\\nGiải thích:\\nThực hiện phép nhân trong ngoặc trước: d2 * d3 = 5.0 * (-0.5) = -2.5.\\nSau đó, thực hiện phép cộng: d1 + (-2.5) = 2.0 + (-2.5) = -0.5.\\nKết quả: -0.5\\n\\n(l) d1 + d2 * d3\\nGiải thích:\\nThứ tự ưu tiên của toán tử: phép nhân * được thực hiện trước. d2 * d3 = 5.0 * (-0.5) = -2.5.\\nSau đó, thực hiện phép cộng: d1 + (-2.5) = 2.0 + (-2.5) = -0.5.\\nKết quả: -0.5\\n\\n(m) d1 / d2 - d3\\nGiải thích:\\nThứ tự ưu tiên của toán tử: phép chia / được thực hiện trước. d1 / d2 = 2.0 / 5.0 = 0.4.\\nSau đó, thực hiện phép trừ: 0.4 - d3 = 0.4 - (-0.5) = 0.4 + 0.5 = 0.9.\\nKết quả: 0.9\\n\\n(n) d1 / (d2 - d3)\\nGiải thích:\\nThực hiện phép trừ trong ngoặc trước: d2 - d3 = 5.0 - (-0.5) = 5.0 + 0.5 = 5.5.\\nSau đó, thực hiện phép chia: d1 / 5.5 = 2.0 / 5.5 = 0.3636....\\nKết quả: 0.36363636363636365\\n\\n(o) d1 + d2 + d3 / 3\\n\\n\\n\\n'"
      ]
     },
     "execution_count": 3,
     "metadata": {},
     "output_type": "execute_result"
    }
   ],
   "source": [
    "#Câu 9: Giải thích kết quả tính toán của các biểu thức\n",
    "\n",
    "'''\n",
    "(a) i1 + (i2 * i3)\n",
    "Giải thích:\n",
    "Tính phép nhân trong ngoặc trước: i2 * i3 = 5 * (-3) = -15.\n",
    "Sau đó, thực hiện phép cộng: i1 + (-15) = 2 + (-15) = -13.\n",
    "Kết quả: -13\n",
    "\n",
    "(b) i1 * (i2 + i3)\n",
    "Giải thích:\n",
    "Tính phép cộng trong ngoặc trước: i2 + i3 = 5 + (-3) = 2.\n",
    "Sau đó, thực hiện phép nhân: i1 * 2 = 2 * 2 = 4.\n",
    "Kết quả: 4\n",
    "\n",
    "(c) i1 / (i2 + i3)\n",
    "Giải thích:\n",
    "Tính phép cộng trong ngoặc trước: i2 + i3 = 5 + (-3) = 2.\n",
    "Sau đó, thực hiện phép chia: i1 / 2 = 2 / 2 = 1.0. Vì đây là phép chia dấu / nên kết quả là số thực.\n",
    "Kết quả: 1.0\n",
    "\n",
    "(d) i1 // (i2 + i3)\n",
    "Giải thích:\n",
    "Tính phép cộng trong ngoặc trước: i2 + i3 = 5 + (-3) = 2.\n",
    "Sau đó, thực hiện phép chia lấy phần nguyên: i1 // 2 = 2 // 2 = 1.\n",
    "Kết quả: 1\n",
    "\n",
    "(e) i1 / i2 + i3\n",
    "Giải thích:\n",
    "Thực hiện phép chia trước do có độ ưu tiên cao hơn: i1 / i2 = 2 / 5 = 0.4.\n",
    "Sau đó, thực hiện phép cộng: 0.4 + i3 = 0.4 + (-3) = -2.6.\n",
    "Kết quả: -2.6\n",
    "\n",
    "(g) 3 + 4 + 5 / 3\n",
    "Giải thích:\n",
    "Thực hiện phép chia trước: 5 / 3 = 1.666....\n",
    "Sau đó, thực hiện phép cộng từ trái sang phải: 3 + 4 = 7, rồi 7 + 1.666... = 8.666....\n",
    "Kết quả: 8.666666666666666\n",
    "\n",
    "(h) 3 + 4 + 5 // 3\n",
    "Giải thích:\n",
    "Thực hiện phép chia lấy phần nguyên trước: 5 // 3 = 1.\n",
    "Sau đó, thực hiện phép cộng từ trái sang phải: 3 + 4 = 7, rồi 7 + 1 = 8.\n",
    "Kết quả: 8\n",
    "\n",
    "(i) (3 + 4 + 5) / 3\n",
    "Giải thích:\n",
    "Tính tổng trong ngoặc trước: 3 + 4 + 5 = 12.\n",
    "Sau đó, thực hiện phép chia: 12 / 3 = 4.0. Vì đây là phép chia dấu / nên kết quả là số thực.\n",
    "Kết quả: 4.0\n",
    "\n",
    "(j) (3 + 4 + 5) // 3\n",
    "Giải thích:\n",
    "Tính tổng trong ngoặc trước: 3 + 4 + 5 = 12.\n",
    "Sau đó, thực hiện phép chia lấy phần nguyên: 12 // 3 = 4.\n",
    "Kết quả: 4\n",
    "\n",
    "(k) d1 + (d2 * d3)\n",
    "Giải thích:\n",
    "Thực hiện phép nhân trong ngoặc trước: d2 * d3 = 5.0 * (-0.5) = -2.5.\n",
    "Sau đó, thực hiện phép cộng: d1 + (-2.5) = 2.0 + (-2.5) = -0.5.\n",
    "Kết quả: -0.5\n",
    "\n",
    "(l) d1 + d2 * d3\n",
    "Giải thích:\n",
    "Thứ tự ưu tiên của toán tử: phép nhân * được thực hiện trước. d2 * d3 = 5.0 * (-0.5) = -2.5.\n",
    "Sau đó, thực hiện phép cộng: d1 + (-2.5) = 2.0 + (-2.5) = -0.5.\n",
    "Kết quả: -0.5\n",
    "\n",
    "(m) d1 / d2 - d3\n",
    "Giải thích:\n",
    "Thứ tự ưu tiên của toán tử: phép chia / được thực hiện trước. d1 / d2 = 2.0 / 5.0 = 0.4.\n",
    "Sau đó, thực hiện phép trừ: 0.4 - d3 = 0.4 - (-0.5) = 0.4 + 0.5 = 0.9.\n",
    "Kết quả: 0.9\n",
    "\n",
    "(n) d1 / (d2 - d3)\n",
    "Giải thích:\n",
    "Thực hiện phép trừ trong ngoặc trước: d2 - d3 = 5.0 - (-0.5) = 5.0 + 0.5 = 5.5.\n",
    "Sau đó, thực hiện phép chia: d1 / 5.5 = 2.0 / 5.5 = 0.3636....\n",
    "Kết quả: 0.36363636363636365\n",
    "\n",
    "(o) d1 + d2 + d3 / 3\n",
    "Giải thích:\n",
    "Thứ tự ưu tiên của toán tử: phép chia / được thực hiện trước. d3 / 3 = -0.5 / 3 = -0.166....\n",
    "Sau đó, thực hiện phép cộng từ trái sang phải: d1 + d2 = 2.0 + 5.0 = 7.0.\n",
    "Tiếp theo: 7.0 + (-0.166...) = 6.833....\n",
    "Kết quả: 6.833333333333333\n",
    "\n",
    "(p) (d1 + d2 + d3) / 3\n",
    "Giải thích:\n",
    "Tính tổng trong ngoặc trước: d1 + d2 + d3 = 2.0 + 5.0 + (-0.5) = 6.5.\n",
    "Sau đó, thực hiện phép chia: 6.5 / 3 = 2.166....\n",
    "Kết quả: 2.1666666666666665\n",
    "\n",
    "(q) d1 + d2 + (d3 / 3)\n",
    "Giải thích:\n",
    "Thực hiện phép chia trong ngoặc trước: d3 / 3 = -0.5 / 3 = -0.166....\n",
    "Sau đó, thực hiện phép cộng từ trái sang phải: d1 + d2 = 2.0 + 5.0 = 7.0.\n",
    "Tiếp theo: 7.0 + (-0.166...) = 6.833....\n",
    "Kết quả: 6.833333333333333\n",
    "\n",
    "(r) 3 * (d1 + d2) * (d1 - d3)\n",
    "Giải thích:\n",
    "Tính toán các biểu thức trong ngoặc trước:\n",
    "    Ngoặc thứ nhất: d1 + d2 = 2.0 + 5.0 = 7.0.\n",
    "    Ngoặc thứ hai: d1 - d3 = 2.0 - (-0.5) = 2.0 + 0.5 = 2.5.\n",
    "Sau đó, thực hiện các phép nhân từ trái sang phải:\n",
    "    3 * 7.0 = 21.0.\n",
    "    21.0 * 2.5 = 52.5.\n",
    "Kết quả: 52.5\n",
    "'''"
   ]
  },
  {
   "cell_type": "code",
   "execution_count": null,
   "id": "d9b6482b1c6111b9",
   "metadata": {},
   "outputs": [],
   "source": [
    "#Câu 10: Hãy viết ngắn gọn lại các lệnh dưới đây\n",
    "\n",
    "'''\n",
    "(a) x = x + 1 Viết gọn: x += 1\n",
    "(b) x = x / 2 Viết gọn: x /= 2\n",
    "(c) x = x – 1 Viết gọn: x -= 1\n",
    "(d) x = x + y Viết gọn: x += y\n",
    "(e) x = x - (y + 7) Viết gọn: x -= (y + 7)\n",
    "(f) x = 2 * x Viết gọn: x *= 2\n",
    "(g) number_of_closed_cases = number_of_closed_cases + 2 * ncc Viết gọn: number_of_closed_cases += 2 * ncc\n",
    "'''"
   ]
  },
  {
   "cell_type": "code",
   "execution_count": null,
   "id": "2adf734fcac71e1a",
   "metadata": {},
   "outputs": [],
   "source": []
  }
 ],
 "metadata": {
  "kernelspec": {
   "display_name": "Python 3",
   "language": "python",
   "name": "python3"
  },
  "language_info": {
   "codemirror_mode": {
    "name": "ipython",
    "version": 3
   },
   "file_extension": ".py",
   "mimetype": "text/x-python",
   "name": "python",
   "nbconvert_exporter": "python",
   "pygments_lexer": "ipython3",
   "version": "3.12.10"
  }
 },
 "nbformat": 4,
 "nbformat_minor": 5
}
