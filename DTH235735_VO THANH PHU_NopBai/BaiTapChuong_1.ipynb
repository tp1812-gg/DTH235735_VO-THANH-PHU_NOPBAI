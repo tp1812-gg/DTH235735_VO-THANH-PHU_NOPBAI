{
 "cells": [
  {
   "cell_type": "code",
   "execution_count": 5,
   "id": "38c2c3d3993cce99",
   "metadata": {
    "jupyter": {
     "is_executing": true
    }
   },
   "outputs": [
    {
     "name": "stdout",
     "output_type": "stream",
     "text": [
      "Chao cac bạn !\n"
     ]
    }
   ],
   "source": [
    "#Câu 4/34\n",
    "print('Chao cac bạn !')"
   ]
  },
  {
   "cell_type": "code",
   "execution_count": 6,
   "id": "38bf6affedd781f3",
   "metadata": {
    "jupyter": {
     "is_executing": true
    }
   },
   "outputs": [
    {
     "name": "stdout",
     "output_type": "stream",
     "text": [
      "Tran Tri Nhan\n"
     ]
    }
   ],
   "source": [
    "#Câu 5/34\n",
    "print('Tran Tri Nhan')"
   ]
  },
  {
   "cell_type": "code",
   "execution_count": 7,
   "id": "b8111c8c1bf3dd07",
   "metadata": {
    "jupyter": {
     "is_executing": true
    }
   },
   "outputs": [
    {
     "name": "stdout",
     "output_type": "stream",
     "text": [
      "Mình về mình có nhớ ta?\n",
      "Mười lăm năm ấy thiết tha mặn nồng.\n",
      "Mình về mình có nhớ không?\n",
      "Nhìn cây nhớ núi, nhìn sông nhớ nguồn.\n"
     ]
    }
   ],
   "source": [
    "#Câu 6/34\n",
    "print('Mình về mình có nhớ ta?')\n",
    "print('Mười lăm năm ấy thiết tha mặn nồng.')\n",
    "print('Mình về mình có nhớ không?')\n",
    "print('Nhìn cây nhớ núi, nhìn sông nhớ nguồn.')"
   ]
  },
  {
   "cell_type": "code",
   "execution_count": 8,
   "id": "e8620ffd2f19dfd0",
   "metadata": {
    "ExecuteTime": {
     "end_time": "2025-08-26T03:38:21.408901Z",
     "start_time": "2025-08-26T03:38:13.668688Z"
    }
   },
   "outputs": [
    {
     "name": "stdout",
     "output_type": "stream",
     "text": [
      "5\n"
     ]
    }
   ],
   "source": [
    "#Câu 7/34\n",
    "chuoi = input(\"Nhập chuỗi vào chương trình: \")\n",
    "print(chuoi)"
   ]
  },
  {
   "cell_type": "code",
   "execution_count": 9,
   "id": "16816e127887647e",
   "metadata": {
    "ExecuteTime": {
     "end_time": "2025-08-26T03:38:21.473713Z",
     "start_time": "2025-08-26T03:38:21.466587Z"
    }
   },
   "outputs": [
    {
     "name": "stdout",
     "output_type": "stream",
     "text": [
      "* * * * \n",
      "*     * \n",
      "*     * \n",
      "* * * * \n"
     ]
    }
   ],
   "source": [
    "#Câu 8/34\n",
    "n = 4\n",
    "for i in range(n):\n",
    "    for j in range(n):\n",
    "        if i == 0 or i == n-1 or j == 0 or j == n-1:\n",
    "            print('*', end=\" \")\n",
    "        else:\n",
    "            print(' ', end=\" \")\n",
    "    print()\n"
   ]
  },
  {
   "cell_type": "code",
   "execution_count": 10,
   "id": "7a5a40f2e880722d",
   "metadata": {
    "ExecuteTime": {
     "end_time": "2025-08-26T03:38:21.515663Z",
     "start_time": "2025-08-26T03:38:21.509783Z"
    }
   },
   "outputs": [
    {
     "name": "stdout",
     "output_type": "stream",
     "text": [
      "* * * * * * * * \n",
      "* * * * * * * * \n",
      "* * * * * * * * \n",
      "* * * * * * * * \n"
     ]
    }
   ],
   "source": [
    "#Câu 9/34\n",
    "n = 4\n",
    "for i in range(n):\n",
    "    for j in range(n):\n",
    "        print('* *', end=\" \")\n",
    "    print()"
   ]
  },
  {
   "cell_type": "code",
   "execution_count": 12,
   "id": "b0584ae10149e08b",
   "metadata": {
    "ExecuteTime": {
     "end_time": "2025-08-26T07:26:08.960949Z",
     "start_time": "2025-08-26T07:26:06.101148Z"
    }
   },
   "outputs": [
    {
     "name": "stdout",
     "output_type": "stream",
     "text": [
      "            *             \n",
      "          * * *           \n",
      "          * * *           \n",
      "        * * * * *         \n",
      "        * * * * *         \n",
      "      * * * * * * *       \n",
      "          *   *           \n",
      "          *   *           \n"
     ]
    }
   ],
   "source": [
    "#Câu 10/34\n",
    "def draw_tree(levels):\n",
    "    width = 4 * levels + 1\n",
    "\n",
    "    for lvl in range(1, levels + 1):\n",
    "        height = 2\n",
    "        for i in range(1, height + 1):\n",
    "            stars = \"* \" * (2 * i + (lvl - 1) * 2 - 1)\n",
    "            print(stars.center(width * 2))\n",
    "\n",
    "    for _ in range(2):\n",
    "        print((\"*   *\").center(width * 2))\n",
    "\n",
    "n = int(input(\"Nhập số tầng cây thông: \"))\n",
    "draw_tree(n)"
   ]
  },
  {
   "cell_type": "code",
   "execution_count": 13,
   "id": "ba4acb4b10912e32",
   "metadata": {
    "ExecuteTime": {
     "end_time": "2025-08-26T03:38:21.545004Z",
     "start_time": "2025-08-26T03:38:21.539761Z"
    }
   },
   "outputs": [
    {
     "name": "stdout",
     "output_type": "stream",
     "text": [
      "Albert Einstein đã từng nói: một người không bao giờ mắc sai lầm không bao giờ thử bất cứ điều gì mới.\n"
     ]
    }
   ],
   "source": [
    "#Ví dụ trang 24\n",
    "print('Albert Einstein đã từng nói: một người không bao giờ mắc sai lầm không bao giờ thử bất cứ điều gì mới.')"
   ]
  },
  {
   "cell_type": "code",
   "execution_count": 14,
   "id": "82211a2a73bba17e",
   "metadata": {
    "ExecuteTime": {
     "end_time": "2025-08-26T03:38:21.565100Z",
     "start_time": "2025-08-26T03:38:21.559535Z"
    }
   },
   "outputs": [
    {
     "name": "stdout",
     "output_type": "stream",
     "text": [
      "Five is greater than two!\n"
     ]
    }
   ],
   "source": [
    "#Ví dụ trang 25\n",
    "if 5 > 2:\n",
    "    print('Five is greater than two!')"
   ]
  },
  {
   "cell_type": "code",
   "execution_count": 15,
   "id": "5fc15538d08d136f",
   "metadata": {
    "ExecuteTime": {
     "end_time": "2025-08-26T03:38:21.583953Z",
     "start_time": "2025-08-26T03:38:21.579629Z"
    }
   },
   "outputs": [
    {
     "name": "stdout",
     "output_type": "stream",
     "text": [
      "6\n",
      "Hello Python!\n"
     ]
    }
   ],
   "source": [
    "#Ví dụ trang 25\n",
    "total1 = 1 + \\\n",
    "         2 + \\\n",
    "         3\n",
    "print(total1); print('Hello Python!')\n"
   ]
  },
  {
   "cell_type": "code",
   "execution_count": 16,
   "id": "7d4ebdc20ad781a4",
   "metadata": {
    "ExecuteTime": {
     "end_time": "2025-08-26T03:38:21.605008Z",
     "start_time": "2025-08-26T03:38:21.600502Z"
    }
   },
   "outputs": [
    {
     "name": "stdout",
     "output_type": "stream",
     "text": [
      "True\n"
     ]
    }
   ],
   "source": [
    "#Ví dụ trang 25\n",
    "if True:\n",
    "    print('True')\n",
    "else:\n",
    "    print('False')"
   ]
  },
  {
   "cell_type": "code",
   "execution_count": 17,
   "id": "c94f4ce63145acd7",
   "metadata": {
    "ExecuteTime": {
     "end_time": "2025-08-26T03:38:21.624710Z",
     "start_time": "2025-08-26T03:38:21.619886Z"
    }
   },
   "outputs": [
    {
     "name": "stdout",
     "output_type": "stream",
     "text": [
      "Hello, Would!\n"
     ]
    }
   ],
   "source": [
    "#Ví dụ trang 25\n",
    "\n",
    "#This is a comment\n",
    "print('Hello, Would!')"
   ]
  }
 ],
 "metadata": {
  "kernelspec": {
   "display_name": "Python 3",
   "language": "python",
   "name": "python3"
  },
  "language_info": {
   "codemirror_mode": {
    "name": "ipython",
    "version": 3
   },
   "file_extension": ".py",
   "mimetype": "text/x-python",
   "name": "python",
   "nbconvert_exporter": "python",
   "pygments_lexer": "ipython3",
   "version": "3.12.10"
  }
 },
 "nbformat": 4,
 "nbformat_minor": 5
}
