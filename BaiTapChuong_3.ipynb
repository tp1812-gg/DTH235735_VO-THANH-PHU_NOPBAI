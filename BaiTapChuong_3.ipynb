{
 "cells": [
  {
   "cell_type": "code",
   "execution_count": 1,
   "id": "initial_id",
   "metadata": {
    "ExecuteTime": {
     "end_time": "2025-09-10T07:40:30.724877Z",
     "start_time": "2025-09-10T07:40:26.695625Z"
    },
    "collapsed": true
   },
   "outputs": [
    {
     "name": "stdout",
     "output_type": "stream",
     "text": [
      "Chương trình kiểm tra năm nhuần\n",
      "Năm 12 là năm nhuần\n"
     ]
    }
   ],
   "source": [
    "#Câu 1: Kiểm tra năm nhuần\n",
    "\n",
    "print(\"Chương trình kiểm tra năm nhuần\")\n",
    "year=int(input(\"Mời ní nhập vào 1 năm: \"))\n",
    "if (year % 4 ==0 and year % 100 != 0) or year % 400 == 0:\n",
    " print(\"Năm\", year, \"là năm nhuần\")\n",
    "else:\n",
    " print(\"Năm\", year, \"không nhuần\")"
   ]
  },
  {
   "cell_type": "code",
   "execution_count": 7,
   "id": "962b012caf85c4fa",
   "metadata": {
    "ExecuteTime": {
     "end_time": "2025-09-10T07:44:39.352274Z",
     "start_time": "2025-09-10T07:44:35.107416Z"
    }
   },
   "outputs": [
    {
     "name": "stdout",
     "output_type": "stream",
     "text": [
      "Chương trình đếm số ngày trong tháng\n",
      "Tháng  7  có 31 ngày\n"
     ]
    }
   ],
   "source": [
    "#Câu 2: Đếm số ngày trong tháng\n",
    "\n",
    "print(\"Chương trình đếm số ngày trong tháng\")\n",
    "month=int(input(\"Nhập vào 1 tháng:\"))\n",
    "if month in (1,3,5,7,8,10,12):\n",
    " print(\"Tháng \", month, \" có 31 ngày\")\n",
    "elif month in (4,6,9,11):\n",
    " print(\"Tháng \", month, \" có 30 ngày\")\n",
    "elif month==2:\n",
    " year=int(input(\"Mời bạn nhập vào năm:\"))\n",
    " if (year % 4 ==0 and year % 100 != 0) or year % 400 == 0:\n",
    "    print(\"Tháng \",month, \" có 29 ngày\")\n",
    " else:\n",
    "    print(\"Tháng \", month, \" có 28 ngày\")\n",
    "else:\n",
    " print(\"Tháng \", month, \" không hợp lệ\")"
   ]
  },
  {
   "cell_type": "code",
   "execution_count": 8,
   "id": "f1b1941c59432f99",
   "metadata": {
    "ExecuteTime": {
     "end_time": "2025-09-10T07:53:12.332431Z",
     "start_time": "2025-09-10T07:53:01.597525Z"
    }
   },
   "outputs": [
    {
     "name": "stdout",
     "output_type": "stream",
     "text": [
      "Chương trình Giải Phương trình bậc 2\n",
      "Vô No\n"
     ]
    }
   ],
   "source": [
    "#Câu 3: Phương trình bậc 2\n",
    "\n",
    "#ax^2+bx+c=0\n",
    "from math import sqrt\n",
    "print(\"Chương trình Giải Phương trình bậc 2\")\n",
    "a=float(input(\"Nhập a:\"))\n",
    "b=float(input(\"Nhập b:\"))\n",
    "c=float(input(\"Nhập c:\"))\n",
    "if a == 0:\n",
    " #bx+c=0\n",
    " if b == 0 and c ==0:\n",
    "    print(\"Vô số nghiệm\")\n",
    " elif b==0 and c !=0:\n",
    "    print(\"Vô nghiệm\")\n",
    " else:\n",
    "  x=-c/b\n",
    " print(\"No x=\",x)\n",
    "else:\n",
    " delta=b**2-4*a*c\n",
    " if delta <0 :\n",
    "    print(\"Vô No\")\n",
    " elif delta ==0:\n",
    "    x=-b/(2*a)\n",
    "    print(\"No kép x1=x2=\",x)\n",
    " else:\n",
    "  x1=(-b-sqrt(delta))/(2*a)\n",
    "  x2=(-b+sqrt(delta))/(2*a)\n",
    "  print(\"x1=\",x1)\n",
    "  print(\"x2=\",x2)\n"
   ]
  },
  {
   "cell_type": "code",
   "execution_count": 10,
   "id": "e39ce6435773ea74",
   "metadata": {
    "ExecuteTime": {
     "end_time": "2025-09-10T07:56:54.217503Z",
     "start_time": "2025-09-10T07:56:54.195527Z"
    }
   },
   "outputs": [
    {
     "data": {
      "text/plain": [
       "'\\n(a) x == 3\\nKết quả: True\\nGiải thích: Giá trị của x là 3, bằng với 3, vì vậy điều kiện là đúng.\\n\\n(b) x < y\\nKết quả: True\\nGiải thích: Giá trị của x là 3, nhỏ hơn giá trị của y là 5, vì vậy điều kiện là đúng.\\n\\n(c) x >= y\\nKết quả: False\\nGiải thích: Giá trị của x là 3, không lớn hơn hoặc bằng giá trị của y là 5, vì vậy điều kiện là sai.\\n\\n(d) x <= y\\nKết quả: True\\nGiải thích: Giá trị của x là 3, nhỏ hơn hoặc bằng giá trị của y là 5, vì vậy điều kiện là đúng.\\n\\n(e) x != y - 2\\nKết quả: False\\nGiải thích: Biểu thức y - 2 có kết quả là 5 - 2 = 3. Vì x (3) bằng với 3, nên điều kiện \"không bằng\" là sai.\\n\\n(f) x < 10\\nKết quả: True\\nGiải thích: Giá trị của x là 3, nhỏ hơn 10, vì vậy điều kiện là đúng.\\n\\n(g) x >= 0 and x < 10\\nKết quả: True\\nGiải thích: Cả hai điều kiện đều đúng. x >= 0 (3 >= 0) là True và x < 10 (3 < 10) là True. Khi sử dụng toán tử and, nếu cả hai vế đều đúng thì kết quả là True.\\n\\n(h) x < 0 and x < 10\\nKết quả: False\\nGiải thích: Điều kiện thứ nhất x < 0 (3 < 0) là False. Khi sử dụng toán tử and, chỉ cần một trong các vế là False thì kết quả sẽ là False.\\n\\n(i) x >= 0 and x < 2\\nKết quả: False\\nGiải thích: Điều kiện thứ hai x < 2 (3 < 2) là False. Khi sử dụng toán tử and, chỉ cần một trong các vế là False thì kết quả sẽ là False.\\n\\n(j) x < 0 or x < 10\\nKết quả: True\\nGiải thích: Điều kiện thứ hai x < 10 (3 < 10) là True. Khi sử dụng toán tử or, chỉ cần một trong các vế là True thì kết quả sẽ là True.\\n\\n(k) x > 0 or x < 10\\nKết quả: True\\nGiải thích: Cả hai điều kiện đều đúng. x > 0 (3 > 0) là True và x < 10 (3 < 10) là True. Khi sử dụng toán tử or, chỉ cần một trong các vế là True thì kết quả sẽ là True.\\n\\n(l) x < 0 or x > 10\\nKết quả: False\\nGiải thích: Cả hai điều kiện đều sai. x < 0 (3 < 0) là False và x > 10 (3 > 10) là False. Khi sử dụng toán tử or, nếu cả hai vế đều sai thì kết quả sẽ là False.\\n'"
      ]
     },
     "execution_count": 10,
     "metadata": {},
     "output_type": "execute_result"
    }
   ],
   "source": [
    "#Câu 4: Hãy cho biết kết quả của Boolean Expression\n",
    "\n",
    "'''\n",
    "(a) x == 3\n",
    "Kết quả: True\n",
    "Giải thích: Giá trị của x là 3, bằng với 3, vì vậy điều kiện là đúng.\n",
    "\n",
    "(b) x < y\n",
    "Kết quả: True\n",
    "Giải thích: Giá trị của x là 3, nhỏ hơn giá trị của y là 5, vì vậy điều kiện là đúng.\n",
    "\n",
    "(c) x >= y\n",
    "Kết quả: False\n",
    "Giải thích: Giá trị của x là 3, không lớn hơn hoặc bằng giá trị của y là 5, vì vậy điều kiện là sai.\n",
    "\n",
    "(d) x <= y\n",
    "Kết quả: True\n",
    "Giải thích: Giá trị của x là 3, nhỏ hơn hoặc bằng giá trị của y là 5, vì vậy điều kiện là đúng.\n",
    "\n",
    "(e) x != y - 2\n",
    "Kết quả: False\n",
    "Giải thích: Biểu thức y - 2 có kết quả là 5 - 2 = 3. Vì x (3) bằng với 3, nên điều kiện \"không bằng\" là sai.\n",
    "\n",
    "(f) x < 10\n",
    "Kết quả: True\n",
    "Giải thích: Giá trị của x là 3, nhỏ hơn 10, vì vậy điều kiện là đúng.\n",
    "\n",
    "(g) x >= 0 and x < 10\n",
    "Kết quả: True\n",
    "Giải thích: Cả hai điều kiện đều đúng. x >= 0 (3 >= 0) là True và x < 10 (3 < 10) là True. Khi sử dụng toán tử and, nếu cả hai vế đều đúng thì kết quả là True.\n",
    "\n",
    "(h) x < 0 and x < 10\n",
    "Kết quả: False\n",
    "Giải thích: Điều kiện thứ nhất x < 0 (3 < 0) là False. Khi sử dụng toán tử and, chỉ cần một trong các vế là False thì kết quả sẽ là False.\n",
    "\n",
    "(i) x >= 0 and x < 2\n",
    "Kết quả: False\n",
    "Giải thích: Điều kiện thứ hai x < 2 (3 < 2) là False. Khi sử dụng toán tử and, chỉ cần một trong các vế là False thì kết quả sẽ là False.\n",
    "\n",
    "(j) x < 0 or x < 10\n",
    "Kết quả: True\n",
    "Giải thích: Điều kiện thứ hai x < 10 (3 < 10) là True. Khi sử dụng toán tử or, chỉ cần một trong các vế là True thì kết quả sẽ là True.\n",
    "\n",
    "(k) x > 0 or x < 10\n",
    "Kết quả: True\n",
    "Giải thích: Cả hai điều kiện đều đúng. x > 0 (3 > 0) là True và x < 10 (3 < 10) là True. Khi sử dụng toán tử or, chỉ cần một trong các vế là True thì kết quả sẽ là True.\n",
    "\n",
    "(l) x < 0 or x > 10\n",
    "Kết quả: False\n",
    "Giải thích: Cả hai điều kiện đều sai. x < 0 (3 < 0) là False và x > 10 (3 > 10) là False. Khi sử dụng toán tử or, nếu cả hai vế đều sai thì kết quả sẽ là False.\n",
    "'''"
   ]
  },
  {
   "cell_type": "code",
   "execution_count": null,
   "id": "1912369091599ae5",
   "metadata": {},
   "outputs": [],
   "source": [
    "#Câu 5: Hãy cho biết kết quả xuất ra màn hình\n",
    "\n",
    "'''\n",
    "(a) i = 3, j = 5, k = 7\n",
    "Phân tích:\n",
    "i < j (3 < 5) là True.\n",
    "j < k (5 < 7) là True.\n",
    "Lệnh i = j được thực thi, làm thay đổi giá trị của i từ 3 thành 5.\n",
    "Kết quả: i = 5 j = 5 k = 7\n",
    "\n",
    "(b) i = 3, j = 7, k = 5\n",
    "Phân tích:\n",
    "i < j (3 < 7) là True.\n",
    "j < k (7 < 5) là False.\n",
    "Lệnh j = k được thực thi, làm thay đổi giá trị của j từ 7 thành 5.\n",
    "Kết quả: i = 3 j = 5 k = 5\n",
    "\n",
    "(c) i = 5, j = 3, k = 7\n",
    "Phân tích:\n",
    "i < j (5 < 3) là False, chương trình nhảy sang khối lệnh else chính.\n",
    "j > k (3 > 7) là False.\n",
    "Lệnh i = k được thực thi, làm thay đổi giá trị của i từ 5 thành 7.\n",
    "Kết quả: i = 7 j = 3 k = 7\n",
    "\n",
    "(d) i = 5, j = 7, k = 3\n",
    "Phân tích:\n",
    "i < j (5 < 7) là True.\n",
    "j < k (7 < 3) là False.\n",
    "Lệnh j = k được thực thi, làm thay đổi giá trị của j từ 7 thành 3.\n",
    "Kết quả: i = 5 j = 3 k = 3\n",
    "\n",
    "(e) i = 7, j = 3, k = 5\n",
    "Phân tích:\n",
    "i < j (7 < 3) là False, chương trình nhảy sang khối lệnh else chính.\n",
    "j > k (3 > 5) là False.\n",
    "Lệnh i = k được thực thi, làm thay đổi giá trị của i từ 7 thành 5.\n",
    "Kết quả: i = 5 j = 3 k = 5\n",
    "\n",
    "(f) i = 7, j = 5, k = 3\n",
    "Phân tích:\n",
    "i < j (7 < 5) là False, chương trình nhảy sang khối lệnh else chính.\n",
    "j > k (5 > 3) là True.\n",
    "Lệnh j = i được thực thi, làm thay đổi giá trị của j từ 5 thành 7.\n",
    "Kết quả: i = 7 j = 7 k = 3\n",
    "'''"
   ]
  },
  {
   "cell_type": "code",
   "execution_count": 13,
   "id": "a65c46f5854fba73",
   "metadata": {
    "ExecuteTime": {
     "end_time": "2025-09-10T08:10:44.192335Z",
     "start_time": "2025-09-10T08:10:42.297908Z"
    }
   },
   "outputs": [
    {
     "name": "stdout",
     "output_type": "stream",
     "text": [
      "Số 15 đọc là: mười lăm\n"
     ]
    }
   ],
   "source": [
    "# Ánh xạ các chữ số sang dạng chữ\n",
    "don_vi = {\n",
    "    0: 'không', 1: 'một', 2: 'hai', 3: 'ba', 4: 'bốn',\n",
    "    5: 'năm', 6: 'sáu', 7: 'bảy', 8: 'tám', 9: 'chín'\n",
    "}\n",
    "\n",
    "hang_chuc = {\n",
    "    1: 'mười', 2: 'hai mươi', 3: 'ba mươi', 4: 'bốn mươi',\n",
    "    5: 'năm mươi', 6: 'sáu mươi', 7: 'bảy mươi', 8: 'tám mươi',\n",
    "    9: 'chín mươi'\n",
    "}\n",
    "\n",
    "def doc_so_hai_chu_so(n):\n",
    "    \"\"\"\n",
    "    Đọc một số nguyên n có tối đa 2 chữ số ra dạng chữ.\n",
    "    Giả định n là một số nguyên không âm.\n",
    "    \"\"\"\n",
    "    if n < 0 or n > 99:\n",
    "        return \"Số không hợp lệ. Vui lòng nhập số từ 0 đến 99.\"\n",
    "\n",
    "    # Trường hợp số từ 0 đến 9\n",
    "    if n < 10:\n",
    "        return don_vi[n]\n",
    "\n",
    "    # Trường hợp số từ 10 đến 19\n",
    "    if n < 20:\n",
    "        if n == 10:\n",
    "            return \"mười\"\n",
    "        chu_so_don_vi = n % 10\n",
    "        if chu_so_don_vi == 5:\n",
    "            return \"mười lăm\"\n",
    "        return f\"mười {don_vi[chu_so_don_vi]}\"\n",
    "\n",
    "    # Trường hợp số từ 20 đến 99\n",
    "    chu_so_chuc = n // 10\n",
    "    chu_so_don_vi = n % 10\n",
    "\n",
    "    phan_chuc = hang_chuc[chu_so_chuc]\n",
    "    phan_don_vi = \"\"\n",
    "\n",
    "    if chu_so_don_vi == 0:\n",
    "        phan_don_vi = \"\"\n",
    "    elif chu_so_don_vi == 1:\n",
    "        phan_don_vi = \"mốt\"\n",
    "    elif chu_so_don_vi == 4:\n",
    "        phan_don_vi = \"tư\"\n",
    "    elif chu_so_don_vi == 5:\n",
    "        phan_don_vi = \"lăm\"\n",
    "    else:\n",
    "        phan_don_vi = don_vi[chu_so_don_vi]\n",
    "\n",
    "    if phan_don_vi:\n",
    "        return f\"{phan_chuc} {phan_don_vi}\"\n",
    "    else:\n",
    "        return phan_chuc\n",
    "\n",
    "# Ví dụ sử dụng\n",
    "so_nhap = int(input(\"Mời bạn nhập một số có tối đa 2 chữ số (0-99): \"))\n",
    "ket_qua = doc_so_hai_chu_so(so_nhap)\n",
    "print(f\"Số {so_nhap} đọc là: {ket_qua}\")"
   ]
  }
 ],
 "metadata": {
  "kernelspec": {
   "display_name": "Python 3",
   "language": "python",
   "name": "python3"
  },
  "language_info": {
   "codemirror_mode": {
    "name": "ipython",
    "version": 3
   },
   "file_extension": ".py",
   "mimetype": "text/x-python",
   "name": "python",
   "nbconvert_exporter": "python",
   "pygments_lexer": "ipython3",
   "version": "3.12.10"
  }
 },
 "nbformat": 4,
 "nbformat_minor": 5
}
