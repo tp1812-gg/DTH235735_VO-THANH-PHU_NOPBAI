{
 "cells": [
  {
   "cell_type": "code",
   "execution_count": 1,
   "id": "835caf22",
   "metadata": {},
   "outputs": [
    {
     "name": "stdout",
     "output_type": "stream",
     "text": [
      "Chương trình tính diện tích Tam Giác\n",
      "Diện tích = 6.0\n"
     ]
    }
   ],
   "source": [
    "# Câu 1: Viết hàm để Tính diện tích tam giác\n",
    "from math import sqrt\n",
    "\n",
    "print(\"Chương trình tính diện tích Tam Giác\")\n",
    "a=float(input(\"Nhập cạnh a>0:\"))\n",
    "b=float(input(\"Nhập cạnh b>0:\"))\n",
    "c=float(input(\"Nhập cạnh c>0:\"))\n",
    "if (a<=0 or b <=0 or c <=0) or (a+b)<=c or (a+c)<=b or b+c<=a:\n",
    " print(\"Tam giác không hợp lệ\")\n",
    "else:\n",
    " cv=a+b+c\n",
    " p=cv/2\n",
    " dt=sqrt(p*(p-a)*(p-b)*(p-c))\n",
    " print(\"Diện tích =\",dt)"
   ]
  },
  {
   "cell_type": "code",
   "execution_count": 8,
   "id": "cbcae188",
   "metadata": {},
   "outputs": [
    {
     "name": "stdout",
     "output_type": "stream",
     "text": [
      "Bạn đoán lần thứ  1\n",
      "Bạn đoán sai, số máy > số bạn\n",
      "Bạn đoán lần thứ  2\n",
      "Bạn đoán sai, số máy > số bạn\n",
      "Bạn đoán lần thứ  3\n",
      "Bạn đoán sai, số máy > số bạn\n",
      "Bạn đoán lần thứ  4\n",
      "Bạn đoán sai, số máy > số bạn\n",
      "Bạn đoán lần thứ  5\n",
      "Bạn đoán sai, số máy > số bạn\n",
      "Bạn đoán lần thứ  6\n",
      "Bạn đoán sai, số máy > số bạn\n",
      "Bạn đoán lần thứ  7\n",
      "Bạn đoán sai, số máy > số bạn\n",
      "GAME OVER!, số máy = 74\n",
      "Cám ơn bạn đã chơi Game!\n"
     ]
    }
   ],
   "source": [
    "# Câu 2: Viết Hàm để chơi Game Đoán Số\n",
    "\n",
    "from random import randrange\n",
    "while True:\n",
    " somay=randrange(1,101)\n",
    " solandoan=0\n",
    " win=False\n",
    " while solandoan<7:\n",
    "    solandoan+=1\n",
    "    songuoi=int(input(\"Máy đoán [1..100], mời bạn đoán:\"))\n",
    "    print(\"Bạn đoán lần thứ \",solandoan)\n",
    "    if somay==songuoi:\n",
    "        print(\"Chúc mừng bạn đoán đúng, số máy là=\",somay)\n",
    "        win=True\n",
    "        break\n",
    "    if somay>songuoi:\n",
    "        print(\"Bạn đoán sai, số máy > số bạn\")\n",
    "    elif somay<songuoi:\n",
    "        print(\"Bạn đoán sai, số máy < số bạn\")\n",
    " if win==False:\n",
    "    print(\"GAME OVER!, số máy =\",somay)\n",
    " hoi=input(\"Tiếp không?\")\n",
    " if hoi==\"k\":\n",
    "  break\n",
    "print(\"Cám ơn bạn đã chơi Game!\")\n"
   ]
  },
  {
   "cell_type": "code",
   "execution_count": null,
   "id": "c324cf81",
   "metadata": {},
   "outputs": [
    {
     "name": "stdout",
     "output_type": "stream",
     "text": [
      "Nhập vào chiều cao:\n",
      "Nhập vào cân nặng:\n",
      "BMI của bạn= 0.10416666666666667\n",
      "Phân loại bạn= Gầy\n",
      "Nguy cơ bệnh của Thím= Thấp\n"
     ]
    }
   ],
   "source": [
    "# Câu 3: Viết Hàm tính BMI\n",
    "def BMI(height,weight):\n",
    " return weight/(height**2)\n",
    "def PhanLoai(bmi):\n",
    " if bmi<18.5:\n",
    "  return \"Gầy\"\n",
    " elif bmi<=24.9:\n",
    "  return \"Bình thường\"\n",
    " elif bmi<=29.9:\n",
    "  return \"Hơi Béo\"\n",
    " elif bmi<=34.9:\n",
    "  return \"Béo Phì Cấp Độ 1\"\n",
    " elif bmi<=39.9:\n",
    "  return \"Béo Phì Cấp Độ 2\"\n",
    " else:\n",
    "  return \"Béo Phì Cấp độ 3\"\n",
    "def NguyCoBenh(bmi):\n",
    " if bmi<18.5:\n",
    "  return \"Thấp\"\n",
    " elif bmi<=24.9:\n",
    "  return \"Trung Bình\"\n",
    " elif bmi<=29.9:\n",
    "  return \"Cao\"\n",
    " elif bmi<=34.9:\n",
    "  return \"Cao\"\n",
    " elif bmi<=39.9:\n",
    "  return \"Rất cao\"\n",
    " else:\n",
    "  return \"Nguy Hiểm\"\n",
    "height=float(input(\"Nhập vào chiều cao:\"))\n",
    "weight=float(input(\"Nhập vào cân nặng:\"))\n",
    "print(\"Chiều cao của bạn=\",height)\n",
    "print(\"Cân nặng của bạn=\",weight)\n",
    "bmi=BMI(height,weight)\n",
    "print(\"BMI của bạn=\",bmi)\n",
    "print(\"Phân loại bạn=\",PhanLoai(bmi))\n",
    "print(\"Nguy cơ bệnh của Thím=\",NguyCoBenh(bmi))"
   ]
  },
  {
   "cell_type": "code",
   "execution_count": 13,
   "id": "bb6da9e8",
   "metadata": {},
   "outputs": [
    {
     "name": "stdout",
     "output_type": "stream",
     "text": [
      "Chương trình tính ROI\n",
      "Tỉ Lệ ROI= 0.6198922771635687\n",
      "==> Không nên đầu tư\n"
     ]
    }
   ],
   "source": [
    "# Câu 4: Viết Hàm tính ROI\n",
    "def ROI(dt,cp):\n",
    " return (dt-cp)/cp\n",
    "def GoiYDauTu(roi):\n",
    " if roi>=0.75:\n",
    "  return \"Nên đầu tư\"\n",
    " else:\n",
    "  return \"Không nên đầu tư\"\n",
    "print(\"Chương trình tính ROI\")\n",
    "dt=int(input(\"Nhập Doanh Thu:\"))\n",
    "cp=int(input(\"Nhập chi phí:\"))\n",
    "roi=ROI(dt,cp)\n",
    "print(\"Tỉ Lệ ROI=\",roi)\n",
    "print(\"==>\",GoiYDauTu(roi))\n"
   ]
  },
  {
   "cell_type": "code",
   "execution_count": 15,
   "id": "85c6dbee",
   "metadata": {},
   "outputs": [
    {
     "name": "stdout",
     "output_type": "stream",
     "text": [
      "34\n",
      "1\t1\t2\t3\t5\t8\t13\t21\t34\t"
     ]
    }
   ],
   "source": [
    "# Câu 5: Viết hàm đệ qui Fibonacci\n",
    "def fibonacci(n):\n",
    " if n<=2 :\n",
    "  return 1\n",
    " return fibonacci(n-1)+fibonacci(n-2)\n",
    "def listfibo(n):\n",
    " for i in range(1,n+1):\n",
    "  print(fibonacci(i),end='\\t')\n",
    "print(fibonacci(9))\n",
    "listfibo(9)"
   ]
  },
  {
   "cell_type": "code",
   "execution_count": null,
   "id": "61a83439",
   "metadata": {},
   "outputs": [],
   "source": []
  }
 ],
 "metadata": {
  "kernelspec": {
   "display_name": "Python 3",
   "language": "python",
   "name": "python3"
  },
  "language_info": {
   "codemirror_mode": {
    "name": "ipython",
    "version": 3
   },
   "file_extension": ".py",
   "mimetype": "text/x-python",
   "name": "python",
   "nbconvert_exporter": "python",
   "pygments_lexer": "ipython3",
   "version": "3.12.10"
  }
 },
 "nbformat": 4,
 "nbformat_minor": 5
}
